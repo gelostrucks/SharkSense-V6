# SharkSense V6 – Dashboard Orbital con Voilà

import pandas as pd
import geopandas as gpd
import plotly.express as px
import plotly.graph_objects as go
import ipywidgets as widgets
from IPython.display import display, HTML

# Cargar datos validados
df = pd.read_csv('modelo_orbital_validado.csv')

# Narrativa científica
display(HTML("""
<h2>🌊 SharkSense V6 – Dashboard Orbital</h2>
<p><b>Orbital Predators – NASA Space Apps Challenge 2025</b><br>
Simulación validada de trayectorias migratorias en hábitats oceánicos reales.<br>
Modelo multivariable, filtrado ecológico y defensa científica internacional.</p>
"""))

# Filtro por zona
zona_selector = widgets.Dropdown(
    options=df['zona'].unique(),
    description='Zona:',
    style={'description_width': 'initial'}
)
display(zona_selector)

# Filtro por intensidad
intensidad_slider = widgets.FloatSlider(
    value=1.0,
    min=0.0,
    max=df['Índice orbital de intensidad de alimentación'].max(),
    step=0.1,
    description='Intensidad mínima:',
    style={'description_width': 'initial'}
)
display(intensidad_slider)

# Filtrado dinámico
df_filtrado = df[
    (df['zona'] == zona_selector.value) &
    (df['Índice orbital de intensidad de alimentación'] >= intensidad_slider.value)
]

# Visualización 1: Histograma
fig_hist = px.histogram(df, x='Índice orbital de intensidad de alimentación',
                        nbins=30, color_discrete_sequence=['teal'],
                        title='Distribución de Intensidad Orbital')
fig_hist.show()

# Visualización 2: Mapa de calor
fig_heat = px.scatter_geo(df_filtrado, lat='lat', lon='lon',
                          color='Índice orbital de intensidad de alimentación',
                          color_continuous_scale='Viridis',
                          title='Zonas válidas de alimentación orbital')
fig_heat.update_layout(geo=dict(projection_type='natural earth'))
fig_heat.show()

# Visualización 3: Trayectorias orbitales
fig_tray = go.Figure()
for i, (zona, grupo) in enumerate(df.groupby('zona')):
    fig_tray.add_trace(go.Scattergeo(
        lon=grupo['lon'], lat=grupo['lat'],
        mode='lines+markers',
        line=dict(width=2),
        marker=dict(size=4),
        name=f"Zona {i+1}"
    ))
fig_tray.update_layout(title='Trayectorias orbitales simuladas',
                       geo=dict(projection_type='natural earth',
                                showland=True, landcolor='rgb(230,230,230)',
                                showocean=True, oceancolor='rgb(200,230,255)'),
                       legend=dict(x=0.01, y=0.01, bgcolor='rgba(255,255,255,0.8)', bordercolor='black'))
fig_tray.show()

# Exportación de CSV filtrado
df_filtrado.to_csv('sharksense_filtrado.csv', index=False)
display(HTML("<p><b>✅ CSV filtrado generado:</b> sharksense_filtrado.csv</p>"))
